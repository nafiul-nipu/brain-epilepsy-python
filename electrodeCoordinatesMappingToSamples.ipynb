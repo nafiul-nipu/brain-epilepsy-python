{
 "cells": [
  {
   "cell_type": "code",
   "execution_count": 1,
   "id": "948d5a49",
   "metadata": {},
   "outputs": [],
   "source": [
    "import pandas as pd\n",
    "import json"
   ]
  },
  {
   "cell_type": "code",
   "execution_count": 2,
   "id": "fba99fa4",
   "metadata": {},
   "outputs": [],
   "source": [
    "df = pd.read_csv('data/ep187_electrodes_new.csv')"
   ]
  },
  {
   "cell_type": "code",
   "execution_count": 3,
   "id": "784fbe70",
   "metadata": {},
   "outputs": [
    {
     "data": {
      "text/html": [
       "<div>\n",
       "<style scoped>\n",
       "    .dataframe tbody tr th:only-of-type {\n",
       "        vertical-align: middle;\n",
       "    }\n",
       "\n",
       "    .dataframe tbody tr th {\n",
       "        vertical-align: top;\n",
       "    }\n",
       "\n",
       "    .dataframe thead th {\n",
       "        text-align: right;\n",
       "    }\n",
       "</style>\n",
       "<table border=\"1\" class=\"dataframe\">\n",
       "  <thead>\n",
       "    <tr style=\"text-align: right;\">\n",
       "      <th></th>\n",
       "      <th>electrode_number</th>\n",
       "      <th>E_EEG</th>\n",
       "      <th>E_Brain</th>\n",
       "      <th>position</th>\n",
       "      <th>position_marker</th>\n",
       "      <th>x</th>\n",
       "      <th>y</th>\n",
       "      <th>z</th>\n",
       "      <th>newX</th>\n",
       "      <th>newY</th>\n",
       "      <th>newZ</th>\n",
       "      <th>newPosition</th>\n",
       "    </tr>\n",
       "  </thead>\n",
       "  <tbody>\n",
       "    <tr>\n",
       "      <th>0</th>\n",
       "      <td>11</td>\n",
       "      <td>E11</td>\n",
       "      <td>PS1</td>\n",
       "      <td>[138.115783691406,166.815368652344,110.1925659...</td>\n",
       "      <td>Y</td>\n",
       "      <td>138.115784</td>\n",
       "      <td>166.815369</td>\n",
       "      <td>110.192566</td>\n",
       "      <td>138.582001</td>\n",
       "      <td>164.065002</td>\n",
       "      <td>116.200996</td>\n",
       "      <td>[138.5820007, 164.0650024, 116.2009964]</td>\n",
       "    </tr>\n",
       "    <tr>\n",
       "      <th>1</th>\n",
       "      <td>12</td>\n",
       "      <td>E12</td>\n",
       "      <td>PS2</td>\n",
       "      <td>[142.168121337891,181.290649414063,112.6060028...</td>\n",
       "      <td>Y</td>\n",
       "      <td>142.168121</td>\n",
       "      <td>181.290649</td>\n",
       "      <td>112.606003</td>\n",
       "      <td>136.712997</td>\n",
       "      <td>176.985992</td>\n",
       "      <td>121.097000</td>\n",
       "      <td>[136.7129974, 176.9859924, 121.0970001]</td>\n",
       "    </tr>\n",
       "    <tr>\n",
       "      <th>2</th>\n",
       "      <td>13</td>\n",
       "      <td>E13</td>\n",
       "      <td>PS3</td>\n",
       "      <td>[141.510070800781,183.282073974609,121.5120697...</td>\n",
       "      <td>Y</td>\n",
       "      <td>141.510071</td>\n",
       "      <td>183.282074</td>\n",
       "      <td>121.512070</td>\n",
       "      <td>138.268997</td>\n",
       "      <td>179.369995</td>\n",
       "      <td>124.501000</td>\n",
       "      <td>[138.2689972, 179.3699951, 124.5009995]</td>\n",
       "    </tr>\n",
       "    <tr>\n",
       "      <th>3</th>\n",
       "      <td>19</td>\n",
       "      <td>E19</td>\n",
       "      <td>AT1</td>\n",
       "      <td>[134.525161743164,137.630401611328,79.41387939...</td>\n",
       "      <td>Y</td>\n",
       "      <td>134.525162</td>\n",
       "      <td>137.630402</td>\n",
       "      <td>79.413879</td>\n",
       "      <td>134.684998</td>\n",
       "      <td>137.822998</td>\n",
       "      <td>78.492302</td>\n",
       "      <td>[134.6849976, 137.822998, 78.49230194]</td>\n",
       "    </tr>\n",
       "    <tr>\n",
       "      <th>4</th>\n",
       "      <td>20</td>\n",
       "      <td>E20</td>\n",
       "      <td>AT2</td>\n",
       "      <td>[139.903259277344,145.456604003906,83.08189392...</td>\n",
       "      <td>Y</td>\n",
       "      <td>139.903259</td>\n",
       "      <td>145.456604</td>\n",
       "      <td>83.081894</td>\n",
       "      <td>140.056000</td>\n",
       "      <td>145.141007</td>\n",
       "      <td>84.123497</td>\n",
       "      <td>[140.0559998, 145.1410065, 84.12349701]</td>\n",
       "    </tr>\n",
       "  </tbody>\n",
       "</table>\n",
       "</div>"
      ],
      "text/plain": [
       "   electrode_number E_EEG E_Brain  \\\n",
       "0                11   E11     PS1   \n",
       "1                12   E12     PS2   \n",
       "2                13   E13     PS3   \n",
       "3                19   E19     AT1   \n",
       "4                20   E20     AT2   \n",
       "\n",
       "                                            position position_marker  \\\n",
       "0  [138.115783691406,166.815368652344,110.1925659...               Y   \n",
       "1  [142.168121337891,181.290649414063,112.6060028...               Y   \n",
       "2  [141.510070800781,183.282073974609,121.5120697...               Y   \n",
       "3  [134.525161743164,137.630401611328,79.41387939...               Y   \n",
       "4  [139.903259277344,145.456604003906,83.08189392...               Y   \n",
       "\n",
       "            x           y           z        newX        newY        newZ  \\\n",
       "0  138.115784  166.815369  110.192566  138.582001  164.065002  116.200996   \n",
       "1  142.168121  181.290649  112.606003  136.712997  176.985992  121.097000   \n",
       "2  141.510071  183.282074  121.512070  138.268997  179.369995  124.501000   \n",
       "3  134.525162  137.630402   79.413879  134.684998  137.822998   78.492302   \n",
       "4  139.903259  145.456604   83.081894  140.056000  145.141007   84.123497   \n",
       "\n",
       "                               newPosition  \n",
       "0  [138.5820007, 164.0650024, 116.2009964]  \n",
       "1  [136.7129974, 176.9859924, 121.0970001]  \n",
       "2  [138.2689972, 179.3699951, 124.5009995]  \n",
       "3   [134.6849976, 137.822998, 78.49230194]  \n",
       "4  [140.0559998, 145.1410065, 84.12349701]  "
      ]
     },
     "execution_count": 3,
     "metadata": {},
     "output_type": "execute_result"
    }
   ],
   "source": [
    "df.head()"
   ]
  },
  {
   "cell_type": "code",
   "execution_count": 4,
   "id": "b17feee2",
   "metadata": {},
   "outputs": [],
   "source": [
    "df2 = pd.read_csv('data/propagation/sample1.csv')"
   ]
  },
  {
   "cell_type": "code",
   "execution_count": 5,
   "id": "0677fe9f",
   "metadata": {},
   "outputs": [
    {
     "data": {
      "text/html": [
       "<div>\n",
       "<style scoped>\n",
       "    .dataframe tbody tr th:only-of-type {\n",
       "        vertical-align: middle;\n",
       "    }\n",
       "\n",
       "    .dataframe tbody tr th {\n",
       "        vertical-align: top;\n",
       "    }\n",
       "\n",
       "    .dataframe thead th {\n",
       "        text-align: right;\n",
       "    }\n",
       "</style>\n",
       "<table border=\"1\" class=\"dataframe\">\n",
       "  <thead>\n",
       "    <tr style=\"text-align: right;\">\n",
       "      <th></th>\n",
       "      <th>start</th>\n",
       "      <th>end</th>\n",
       "      <th>frequency</th>\n",
       "    </tr>\n",
       "  </thead>\n",
       "  <tbody>\n",
       "    <tr>\n",
       "      <th>0</th>\n",
       "      <td>11</td>\n",
       "      <td>39</td>\n",
       "      <td>1</td>\n",
       "    </tr>\n",
       "    <tr>\n",
       "      <th>1</th>\n",
       "      <td>11</td>\n",
       "      <td>51</td>\n",
       "      <td>1</td>\n",
       "    </tr>\n",
       "    <tr>\n",
       "      <th>2</th>\n",
       "      <td>11</td>\n",
       "      <td>59</td>\n",
       "      <td>1</td>\n",
       "    </tr>\n",
       "    <tr>\n",
       "      <th>3</th>\n",
       "      <td>11</td>\n",
       "      <td>60</td>\n",
       "      <td>1</td>\n",
       "    </tr>\n",
       "    <tr>\n",
       "      <th>4</th>\n",
       "      <td>11</td>\n",
       "      <td>62</td>\n",
       "      <td>1</td>\n",
       "    </tr>\n",
       "  </tbody>\n",
       "</table>\n",
       "</div>"
      ],
      "text/plain": [
       "   start  end  frequency\n",
       "0     11   39          1\n",
       "1     11   51          1\n",
       "2     11   59          1\n",
       "3     11   60          1\n",
       "4     11   62          1"
      ]
     },
     "execution_count": 5,
     "metadata": {},
     "output_type": "execute_result"
    }
   ],
   "source": [
    "# df2.rename(columns={\"from\": \"fromElec\", \"to\": \"toElec\"}, inplace=True)\n",
    "df2.head()"
   ]
  },
  {
   "cell_type": "code",
   "execution_count": 6,
   "id": "93add1db",
   "metadata": {},
   "outputs": [],
   "source": [
    "dic = {}\n",
    "for index, row in df.iterrows():\n",
    "    dic[row.electrode_number] =  json.loads(row.position)"
   ]
  },
  {
   "cell_type": "code",
   "execution_count": 7,
   "id": "157e3189",
   "metadata": {},
   "outputs": [],
   "source": [
    "electrodeKeyList = list(dic.keys())"
   ]
  },
  {
   "cell_type": "code",
   "execution_count": 8,
   "id": "01592243",
   "metadata": {},
   "outputs": [],
   "source": [
    "sampleList = []\n",
    "for idx, row in df2.iterrows():\n",
    "    if int(row[\"start\"]) not in sampleList:\n",
    "        sampleList.append(int(row[\"start\"]))\n",
    "    if int(row[\"end\"]) not in sampleList:\n",
    "        sampleList.append(int(row[\"end\"]))\n",
    "#     startPositions.append(int(dic[row[\"start\"]]))\n",
    "#     endPositions.append(int(dic[row[\"end\"]]))"
   ]
  },
  {
   "cell_type": "code",
   "execution_count": 9,
   "id": "8dbb8df3",
   "metadata": {},
   "outputs": [],
   "source": [
    "nodata = []\n",
    "for sample in sampleList:\n",
    "    if sample not in electrodeKeyList:\n",
    "        nodata.append(sample)"
   ]
  },
  {
   "cell_type": "code",
   "execution_count": 10,
   "id": "1a31adcb",
   "metadata": {},
   "outputs": [
    {
     "name": "stdout",
     "output_type": "stream",
     "text": [
      "[11, 13, 14, 15, 16, 18, 19, 20, 22, 30, 31, 34, 36, 37, 39, 40, 41, 45, 48, 51, 52, 53, 55, 56, 57, 58, 59, 60, 61, 62, 63, 64, 67, 68, 69, 70, 71, 72, 74, 75, 76, 77, 78, 79, 80, 81, 82, 83, 84, 85, 86, 87, 88, 89, 90, 91, 92, 93, 94, 95, 96, 98, 100, 102, 104, 106, 108, 109, 110, 111, 112, 115, 116, 118, 119, 120, 122, 123, 124]\n",
      "[11, 12, 13, 19, 20, 21, 22, 23, 24, 25, 26, 27, 28, 29, 30, 31, 33, 34, 35, 36, 37, 38, 39, 40, 41, 43, 44, 45, 46, 47, 48, 49, 50, 52, 53, 55, 56, 57, 58, 59, 60, 61, 62, 63, 64, 65, 66, 67, 68, 69, 70, 72, 73, 74, 75, 76, 77, 78, 79, 80, 81, 82, 83, 84, 85, 86, 87, 88, 89, 90, 91, 92, 93, 94, 95, 96, 97, 98, 99, 100, 101, 102, 103, 104]\n",
      "[14, 15, 16, 18, 51, 71, 106, 108, 109, 110, 111, 112, 115, 116, 118, 119, 120, 122, 123, 124]\n"
     ]
    }
   ],
   "source": [
    "print(sorted(sampleList))\n",
    "print(sorted(electrodeKeyList))\n",
    "print(sorted(nodata))"
   ]
  },
  {
   "cell_type": "code",
   "execution_count": 11,
   "id": "498c42a8",
   "metadata": {},
   "outputs": [],
   "source": [
    "startPositions = []\n",
    "endPositions = []\n",
    "startElectrode = []\n",
    "endElectrode = []\n",
    "frequency = []\n",
    "\n",
    "for idx, row in df2.iterrows():\n",
    "#     print(int(row[\"start\"]) not in nodata, int(row[\"start\"]))\n",
    "#     print(int(row[\"end\"]) not in nodata, int(row[\"end\"]))\n",
    "    if (int(row[\"start\"]) not in nodata) and (int(row[\"end\"]) not in nodata):\n",
    "        startPositions.append(dic[int(row[\"start\"])])\n",
    "        startElectrode.append(int(row['start']))\n",
    "        endPositions.append(dic[int(row[\"end\"])])\n",
    "        endElectrode.append(int(row['end']))\n",
    "        frequency.append(int(row['frequency']))"
   ]
  },
  {
   "cell_type": "code",
   "execution_count": 12,
   "id": "af5b18e8",
   "metadata": {},
   "outputs": [],
   "source": [
    "newSample = pd.DataFrame({\n",
    "    'start': startElectrode,\n",
    "    'startPosition': startPositions,\n",
    "    'end': endElectrode,\n",
    "    'endPosition': endPositions,\n",
    "    'frequency': frequency\n",
    "})"
   ]
  },
  {
   "cell_type": "code",
   "execution_count": 13,
   "id": "715b50e9",
   "metadata": {},
   "outputs": [
    {
     "data": {
      "text/html": [
       "<div>\n",
       "<style scoped>\n",
       "    .dataframe tbody tr th:only-of-type {\n",
       "        vertical-align: middle;\n",
       "    }\n",
       "\n",
       "    .dataframe tbody tr th {\n",
       "        vertical-align: top;\n",
       "    }\n",
       "\n",
       "    .dataframe thead th {\n",
       "        text-align: right;\n",
       "    }\n",
       "</style>\n",
       "<table border=\"1\" class=\"dataframe\">\n",
       "  <thead>\n",
       "    <tr style=\"text-align: right;\">\n",
       "      <th></th>\n",
       "      <th>start</th>\n",
       "      <th>startPosition</th>\n",
       "      <th>end</th>\n",
       "      <th>endPosition</th>\n",
       "      <th>frequency</th>\n",
       "    </tr>\n",
       "  </thead>\n",
       "  <tbody>\n",
       "    <tr>\n",
       "      <th>0</th>\n",
       "      <td>11</td>\n",
       "      <td>[138.115783691406, 166.815368652344, 110.19256...</td>\n",
       "      <td>39</td>\n",
       "      <td>[145.143127441406, 70.3753051757813, 155.92906...</td>\n",
       "      <td>1</td>\n",
       "    </tr>\n",
       "    <tr>\n",
       "      <th>1</th>\n",
       "      <td>11</td>\n",
       "      <td>[138.115783691406, 166.815368652344, 110.19256...</td>\n",
       "      <td>59</td>\n",
       "      <td>[147.387954711914, 154.761169433594, 144.27899...</td>\n",
       "      <td>1</td>\n",
       "    </tr>\n",
       "    <tr>\n",
       "      <th>2</th>\n",
       "      <td>11</td>\n",
       "      <td>[138.115783691406, 166.815368652344, 110.19256...</td>\n",
       "      <td>60</td>\n",
       "      <td>[148.658752441406, 145.612274169922, 144.97836...</td>\n",
       "      <td>1</td>\n",
       "    </tr>\n",
       "    <tr>\n",
       "      <th>3</th>\n",
       "      <td>11</td>\n",
       "      <td>[138.115783691406, 166.815368652344, 110.19256...</td>\n",
       "      <td>62</td>\n",
       "      <td>[153.248168945313, 128.083526611328, 150.41238...</td>\n",
       "      <td>1</td>\n",
       "    </tr>\n",
       "    <tr>\n",
       "      <th>4</th>\n",
       "      <td>11</td>\n",
       "      <td>[138.115783691406, 166.815368652344, 110.19256...</td>\n",
       "      <td>72</td>\n",
       "      <td>[158.27294921875, 102.543960571289, 160.457229...</td>\n",
       "      <td>1</td>\n",
       "    </tr>\n",
       "  </tbody>\n",
       "</table>\n",
       "</div>"
      ],
      "text/plain": [
       "   start                                      startPosition  end  \\\n",
       "0     11  [138.115783691406, 166.815368652344, 110.19256...   39   \n",
       "1     11  [138.115783691406, 166.815368652344, 110.19256...   59   \n",
       "2     11  [138.115783691406, 166.815368652344, 110.19256...   60   \n",
       "3     11  [138.115783691406, 166.815368652344, 110.19256...   62   \n",
       "4     11  [138.115783691406, 166.815368652344, 110.19256...   72   \n",
       "\n",
       "                                         endPosition  frequency  \n",
       "0  [145.143127441406, 70.3753051757813, 155.92906...          1  \n",
       "1  [147.387954711914, 154.761169433594, 144.27899...          1  \n",
       "2  [148.658752441406, 145.612274169922, 144.97836...          1  \n",
       "3  [153.248168945313, 128.083526611328, 150.41238...          1  \n",
       "4  [158.27294921875, 102.543960571289, 160.457229...          1  "
      ]
     },
     "execution_count": 13,
     "metadata": {},
     "output_type": "execute_result"
    }
   ],
   "source": [
    "newSample.head()"
   ]
  },
  {
   "cell_type": "code",
   "execution_count": 14,
   "id": "37c373f1",
   "metadata": {},
   "outputs": [],
   "source": [
    "newSample.to_csv('data/propagation/newSample1RealPosition.csv', index=False)"
   ]
  },
  {
   "cell_type": "code",
   "execution_count": null,
   "id": "267d3c94",
   "metadata": {},
   "outputs": [],
   "source": []
  }
 ],
 "metadata": {
  "kernelspec": {
   "display_name": "Python 3 (ipykernel)",
   "language": "python",
   "name": "python3"
  },
  "language_info": {
   "codemirror_mode": {
    "name": "ipython",
    "version": 3
   },
   "file_extension": ".py",
   "mimetype": "text/x-python",
   "name": "python",
   "nbconvert_exporter": "python",
   "pygments_lexer": "ipython3",
   "version": "3.7.15"
  }
 },
 "nbformat": 4,
 "nbformat_minor": 5
}
