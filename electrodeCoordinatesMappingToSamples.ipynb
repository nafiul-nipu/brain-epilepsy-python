{
 "cells": [
  {
   "cell_type": "code",
   "execution_count": 6,
   "id": "948d5a49",
   "metadata": {},
   "outputs": [],
   "source": [
    "import pandas as pd\n",
    "import json"
   ]
  },
  {
   "cell_type": "code",
   "execution_count": 7,
   "id": "fba99fa4",
   "metadata": {},
   "outputs": [],
   "source": [
    "df = pd.read_csv('data/ep187_electrodes_new.csv')"
   ]
  },
  {
   "cell_type": "code",
   "execution_count": 8,
   "id": "784fbe70",
   "metadata": {},
   "outputs": [
    {
     "data": {
      "text/html": [
       "<div>\n",
       "<style scoped>\n",
       "    .dataframe tbody tr th:only-of-type {\n",
       "        vertical-align: middle;\n",
       "    }\n",
       "\n",
       "    .dataframe tbody tr th {\n",
       "        vertical-align: top;\n",
       "    }\n",
       "\n",
       "    .dataframe thead th {\n",
       "        text-align: right;\n",
       "    }\n",
       "</style>\n",
       "<table border=\"1\" class=\"dataframe\">\n",
       "  <thead>\n",
       "    <tr style=\"text-align: right;\">\n",
       "      <th></th>\n",
       "      <th>electrode_number</th>\n",
       "      <th>E_EEG</th>\n",
       "      <th>E_Brain</th>\n",
       "      <th>X</th>\n",
       "      <th>Y</th>\n",
       "      <th>Z</th>\n",
       "      <th>position_marker</th>\n",
       "      <th>position</th>\n",
       "    </tr>\n",
       "  </thead>\n",
       "  <tbody>\n",
       "    <tr>\n",
       "      <th>0</th>\n",
       "      <td>11</td>\n",
       "      <td>E11</td>\n",
       "      <td>SF1</td>\n",
       "      <td>60.286774</td>\n",
       "      <td>160.824158</td>\n",
       "      <td>110.660850</td>\n",
       "      <td>Y</td>\n",
       "      <td>[60.28677368, 160.8241577, 110.6608505]</td>\n",
       "    </tr>\n",
       "    <tr>\n",
       "      <th>1</th>\n",
       "      <td>12</td>\n",
       "      <td>E12</td>\n",
       "      <td>SF2</td>\n",
       "      <td>55.977646</td>\n",
       "      <td>158.249695</td>\n",
       "      <td>112.236534</td>\n",
       "      <td>Y</td>\n",
       "      <td>[55.97764587, 158.2496948, 112.2365341]</td>\n",
       "    </tr>\n",
       "    <tr>\n",
       "      <th>2</th>\n",
       "      <td>13</td>\n",
       "      <td>E13</td>\n",
       "      <td>SF3</td>\n",
       "      <td>51.211723</td>\n",
       "      <td>155.255463</td>\n",
       "      <td>116.424690</td>\n",
       "      <td>Y</td>\n",
       "      <td>[51.21172333, 155.2554626, 116.4246902]</td>\n",
       "    </tr>\n",
       "    <tr>\n",
       "      <th>3</th>\n",
       "      <td>14</td>\n",
       "      <td>E14</td>\n",
       "      <td>SF4</td>\n",
       "      <td>48.487968</td>\n",
       "      <td>151.473511</td>\n",
       "      <td>121.146462</td>\n",
       "      <td>Y</td>\n",
       "      <td>[48.48796844, 151.4735107, 121.1464615]</td>\n",
       "    </tr>\n",
       "    <tr>\n",
       "      <th>4</th>\n",
       "      <td>15</td>\n",
       "      <td>E15</td>\n",
       "      <td>SF5</td>\n",
       "      <td>44.113647</td>\n",
       "      <td>149.526535</td>\n",
       "      <td>128.973816</td>\n",
       "      <td>Y</td>\n",
       "      <td>[44.11364746, 149.526535, 128.9738159]</td>\n",
       "    </tr>\n",
       "  </tbody>\n",
       "</table>\n",
       "</div>"
      ],
      "text/plain": [
       "   electrode_number E_EEG E_Brain          X           Y           Z  \\\n",
       "0                11   E11     SF1  60.286774  160.824158  110.660850   \n",
       "1                12   E12     SF2  55.977646  158.249695  112.236534   \n",
       "2                13   E13     SF3  51.211723  155.255463  116.424690   \n",
       "3                14   E14     SF4  48.487968  151.473511  121.146462   \n",
       "4                15   E15     SF5  44.113647  149.526535  128.973816   \n",
       "\n",
       "  position_marker                                 position  \n",
       "0               Y  [60.28677368, 160.8241577, 110.6608505]  \n",
       "1               Y  [55.97764587, 158.2496948, 112.2365341]  \n",
       "2               Y  [51.21172333, 155.2554626, 116.4246902]  \n",
       "3               Y  [48.48796844, 151.4735107, 121.1464615]  \n",
       "4               Y   [44.11364746, 149.526535, 128.9738159]  "
      ]
     },
     "execution_count": 8,
     "metadata": {},
     "output_type": "execute_result"
    }
   ],
   "source": [
    "df.head()"
   ]
  },
  {
   "cell_type": "code",
   "execution_count": 31,
   "id": "b17feee2",
   "metadata": {},
   "outputs": [],
   "source": [
    "df2 = pd.read_csv('data/propagation/sample3.csv')"
   ]
  },
  {
   "cell_type": "code",
   "execution_count": 32,
   "id": "0677fe9f",
   "metadata": {},
   "outputs": [
    {
     "data": {
      "text/html": [
       "<div>\n",
       "<style scoped>\n",
       "    .dataframe tbody tr th:only-of-type {\n",
       "        vertical-align: middle;\n",
       "    }\n",
       "\n",
       "    .dataframe tbody tr th {\n",
       "        vertical-align: top;\n",
       "    }\n",
       "\n",
       "    .dataframe thead th {\n",
       "        text-align: right;\n",
       "    }\n",
       "</style>\n",
       "<table border=\"1\" class=\"dataframe\">\n",
       "  <thead>\n",
       "    <tr style=\"text-align: right;\">\n",
       "      <th></th>\n",
       "      <th>start</th>\n",
       "      <th>end</th>\n",
       "      <th>frequency</th>\n",
       "    </tr>\n",
       "  </thead>\n",
       "  <tbody>\n",
       "    <tr>\n",
       "      <th>0</th>\n",
       "      <td>11</td>\n",
       "      <td>12</td>\n",
       "      <td>1</td>\n",
       "    </tr>\n",
       "    <tr>\n",
       "      <th>1</th>\n",
       "      <td>11</td>\n",
       "      <td>14</td>\n",
       "      <td>2</td>\n",
       "    </tr>\n",
       "    <tr>\n",
       "      <th>2</th>\n",
       "      <td>11</td>\n",
       "      <td>16</td>\n",
       "      <td>4</td>\n",
       "    </tr>\n",
       "    <tr>\n",
       "      <th>3</th>\n",
       "      <td>11</td>\n",
       "      <td>17</td>\n",
       "      <td>1</td>\n",
       "    </tr>\n",
       "    <tr>\n",
       "      <th>4</th>\n",
       "      <td>11</td>\n",
       "      <td>18</td>\n",
       "      <td>1</td>\n",
       "    </tr>\n",
       "  </tbody>\n",
       "</table>\n",
       "</div>"
      ],
      "text/plain": [
       "   start  end  frequency\n",
       "0     11   12          1\n",
       "1     11   14          2\n",
       "2     11   16          4\n",
       "3     11   17          1\n",
       "4     11   18          1"
      ]
     },
     "execution_count": 32,
     "metadata": {},
     "output_type": "execute_result"
    }
   ],
   "source": [
    "# df2.rename(columns={\"from\": \"fromElec\", \"to\": \"toElec\"}, inplace=True)\n",
    "df2.head()"
   ]
  },
  {
   "cell_type": "code",
   "execution_count": 33,
   "id": "93add1db",
   "metadata": {},
   "outputs": [],
   "source": [
    "dic = {}\n",
    "for index, row in df.iterrows():\n",
    "    dic[row.electrode_number] =  json.loads(row.position)"
   ]
  },
  {
   "cell_type": "code",
   "execution_count": 34,
   "id": "157e3189",
   "metadata": {},
   "outputs": [],
   "source": [
    "electrodeKeyList = list(dic.keys())"
   ]
  },
  {
   "cell_type": "code",
   "execution_count": 35,
   "id": "01592243",
   "metadata": {},
   "outputs": [],
   "source": [
    "sampleList = []\n",
    "for idx, row in df2.iterrows():\n",
    "    if int(row[\"start\"]) not in sampleList:\n",
    "        sampleList.append(int(row[\"start\"]))\n",
    "    if int(row[\"end\"]) not in sampleList:\n",
    "        sampleList.append(int(row[\"end\"]))\n",
    "#     startPositions.append(int(dic[row[\"start\"]]))\n",
    "#     endPositions.append(int(dic[row[\"end\"]]))"
   ]
  },
  {
   "cell_type": "code",
   "execution_count": 36,
   "id": "8dbb8df3",
   "metadata": {},
   "outputs": [],
   "source": [
    "nodata = []\n",
    "for sample in sampleList:\n",
    "    if sample not in electrodeKeyList:\n",
    "        nodata.append(sample)"
   ]
  },
  {
   "cell_type": "code",
   "execution_count": 37,
   "id": "1a31adcb",
   "metadata": {},
   "outputs": [
    {
     "name": "stdout",
     "output_type": "stream",
     "text": [
      "[11, 12, 13, 14, 15, 16, 17, 18, 19, 20, 21, 22, 30, 31, 33, 37, 39, 40, 41, 42, 45, 48, 51, 53, 55, 56, 57, 58, 59, 60, 61, 62, 63, 64, 65, 66, 67, 68, 69, 70, 71, 72, 73, 74, 75, 76, 77, 78, 79, 80, 81, 82, 83, 84, 85, 86, 87, 88, 89, 90, 91, 92, 93, 94, 95, 96, 99, 100, 101, 102, 103, 104, 105, 106, 108, 109, 110, 111, 112, 113, 114, 116, 117, 118, 119, 120, 121, 123, 124]\n",
      "[11, 12, 13, 14, 15, 16, 17, 18, 19, 20, 21, 22, 23, 24, 25, 26, 27, 28, 29, 30, 31, 32, 33, 34, 35, 36, 37, 38, 39, 40, 41, 42, 43, 44, 45, 46, 47, 48, 49, 50, 51, 52, 53, 54, 55, 56, 57, 58, 59, 60, 61, 62, 63, 64, 65, 66, 67, 68, 69, 70, 71, 72, 73, 74, 75, 76, 77, 78, 79, 80, 81, 82, 83, 84, 85, 86, 87, 88, 89, 90, 91, 92, 93, 94, 95, 96, 97, 98, 99, 100, 101, 102, 103, 104, 105, 106, 107, 108, 109, 110, 111, 112, 113, 114, 115, 116, 117, 118, 119, 120, 121, 122, 123, 124]\n",
      "[]\n"
     ]
    }
   ],
   "source": [
    "print(sorted(sampleList))\n",
    "print(sorted(electrodeKeyList))\n",
    "print(sorted(nodata))"
   ]
  },
  {
   "cell_type": "code",
   "execution_count": 38,
   "id": "498c42a8",
   "metadata": {},
   "outputs": [],
   "source": [
    "startPositions = []\n",
    "endPositions = []\n",
    "startElectrode = []\n",
    "endElectrode = []\n",
    "frequency = []\n",
    "\n",
    "for idx, row in df2.iterrows():\n",
    "#     print(int(row[\"start\"]) not in nodata, int(row[\"start\"]))\n",
    "#     print(int(row[\"end\"]) not in nodata, int(row[\"end\"]))\n",
    "    if (int(row[\"start\"]) not in nodata) and (int(row[\"end\"]) not in nodata):\n",
    "        startPositions.append(dic[int(row[\"start\"])])\n",
    "        startElectrode.append(int(row['start']))\n",
    "        endPositions.append(dic[int(row[\"end\"])])\n",
    "        endElectrode.append(int(row['end']))\n",
    "        frequency.append(int(row['frequency']))"
   ]
  },
  {
   "cell_type": "code",
   "execution_count": 39,
   "id": "af5b18e8",
   "metadata": {},
   "outputs": [],
   "source": [
    "newSample = pd.DataFrame({\n",
    "    'start': startElectrode,\n",
    "    'startPosition': startPositions,\n",
    "    'end': endElectrode,\n",
    "    'endPosition': endPositions,\n",
    "    'frequency': frequency\n",
    "})"
   ]
  },
  {
   "cell_type": "code",
   "execution_count": 40,
   "id": "715b50e9",
   "metadata": {},
   "outputs": [
    {
     "data": {
      "text/html": [
       "<div>\n",
       "<style scoped>\n",
       "    .dataframe tbody tr th:only-of-type {\n",
       "        vertical-align: middle;\n",
       "    }\n",
       "\n",
       "    .dataframe tbody tr th {\n",
       "        vertical-align: top;\n",
       "    }\n",
       "\n",
       "    .dataframe thead th {\n",
       "        text-align: right;\n",
       "    }\n",
       "</style>\n",
       "<table border=\"1\" class=\"dataframe\">\n",
       "  <thead>\n",
       "    <tr style=\"text-align: right;\">\n",
       "      <th></th>\n",
       "      <th>start</th>\n",
       "      <th>startPosition</th>\n",
       "      <th>end</th>\n",
       "      <th>endPosition</th>\n",
       "      <th>frequency</th>\n",
       "    </tr>\n",
       "  </thead>\n",
       "  <tbody>\n",
       "    <tr>\n",
       "      <th>0</th>\n",
       "      <td>11</td>\n",
       "      <td>[60.28677368, 160.8241577, 110.6608505]</td>\n",
       "      <td>12</td>\n",
       "      <td>[55.97764587, 158.2496948, 112.2365341]</td>\n",
       "      <td>1</td>\n",
       "    </tr>\n",
       "    <tr>\n",
       "      <th>1</th>\n",
       "      <td>11</td>\n",
       "      <td>[60.28677368, 160.8241577, 110.6608505]</td>\n",
       "      <td>14</td>\n",
       "      <td>[48.48796844, 151.4735107, 121.1464615]</td>\n",
       "      <td>2</td>\n",
       "    </tr>\n",
       "    <tr>\n",
       "      <th>2</th>\n",
       "      <td>11</td>\n",
       "      <td>[60.28677368, 160.8241577, 110.6608505]</td>\n",
       "      <td>16</td>\n",
       "      <td>[64.83947754, 153.8170471, 109.4194031]</td>\n",
       "      <td>4</td>\n",
       "    </tr>\n",
       "    <tr>\n",
       "      <th>3</th>\n",
       "      <td>11</td>\n",
       "      <td>[60.28677368, 160.8241577, 110.6608505]</td>\n",
       "      <td>17</td>\n",
       "      <td>[58.68668747, 152.7620544, 110.3483887]</td>\n",
       "      <td>1</td>\n",
       "    </tr>\n",
       "    <tr>\n",
       "      <th>4</th>\n",
       "      <td>11</td>\n",
       "      <td>[60.28677368, 160.8241577, 110.6608505]</td>\n",
       "      <td>18</td>\n",
       "      <td>[53.5224762, 150.5645752, 113.4942017]</td>\n",
       "      <td>1</td>\n",
       "    </tr>\n",
       "  </tbody>\n",
       "</table>\n",
       "</div>"
      ],
      "text/plain": [
       "   start                            startPosition  end  \\\n",
       "0     11  [60.28677368, 160.8241577, 110.6608505]   12   \n",
       "1     11  [60.28677368, 160.8241577, 110.6608505]   14   \n",
       "2     11  [60.28677368, 160.8241577, 110.6608505]   16   \n",
       "3     11  [60.28677368, 160.8241577, 110.6608505]   17   \n",
       "4     11  [60.28677368, 160.8241577, 110.6608505]   18   \n",
       "\n",
       "                               endPosition  frequency  \n",
       "0  [55.97764587, 158.2496948, 112.2365341]          1  \n",
       "1  [48.48796844, 151.4735107, 121.1464615]          2  \n",
       "2  [64.83947754, 153.8170471, 109.4194031]          4  \n",
       "3  [58.68668747, 152.7620544, 110.3483887]          1  \n",
       "4   [53.5224762, 150.5645752, 113.4942017]          1  "
      ]
     },
     "execution_count": 40,
     "metadata": {},
     "output_type": "execute_result"
    }
   ],
   "source": [
    "newSample.head()"
   ]
  },
  {
   "cell_type": "code",
   "execution_count": 41,
   "id": "37c373f1",
   "metadata": {},
   "outputs": [],
   "source": [
    "newSample.to_csv('data/propagation/newSample3RealPosition.csv', index=False)"
   ]
  },
  {
   "cell_type": "code",
   "execution_count": null,
   "id": "267d3c94",
   "metadata": {},
   "outputs": [],
   "source": []
  }
 ],
 "metadata": {
  "kernelspec": {
   "display_name": "Python 3 (ipykernel)",
   "language": "python",
   "name": "python3"
  },
  "language_info": {
   "codemirror_mode": {
    "name": "ipython",
    "version": 3
   },
   "file_extension": ".py",
   "mimetype": "text/x-python",
   "name": "python",
   "nbconvert_exporter": "python",
   "pygments_lexer": "ipython3",
   "version": "3.8.13"
  }
 },
 "nbformat": 4,
 "nbformat_minor": 5
}
